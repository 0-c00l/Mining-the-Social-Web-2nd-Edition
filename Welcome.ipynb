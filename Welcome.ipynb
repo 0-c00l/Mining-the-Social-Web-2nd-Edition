{
 "metadata": {
  "name": "Welcome"
 },
 "nbformat": 3,
 "nbformat_minor": 0,
 "worksheets": [
  {
   "cells": [
    {
     "cell_type": "markdown",
     "metadata": {},
     "source": [
      "# Mining the Social Web, 2nd Edition\n",
      "\n",
      "## Welcome!\n",
      "\n",
      "Welcome to the source code repository for _Mining the Social Web (2nd Edition)_! This IPython Notebook provides an interactive way to follow along with and explore the numbered examples from _Mining the Social Web_, 2nd Edition. The intent behind this notebook is to reinforce the concepts from the sample code in a fun, convenient, and effective way. This notebook assumes that you are reading along with the book and have the context of the discussion as you work through these exercises.\n",
      "\n",
      "If you are reading this page, it means that you've been able to either successfully download the virtual machine and point your browser to this IPython Notebook, or it means that you've been able to download the source code and start IPython Notebook on your own without the virtual machine. In either case, let me be the first to offer my congratulations and let you know that I am excited that you've chosen to take an interest in _Mining the Social Web_.\n",
      "\n",
      "Just so you're aware, even if you are an accomplished developer, you may still find it worthwhile to use the turn-key virtual machine that's been provided since it is tested and comes pre-loaded with all of the correct dependencies for following along with the examples.\n",
      "\n",
      "This directory contains all of the IPython Notebooks for _Mining the Social Web_ organized by chapter, so in order to explore the source code for any given chapter, just navigate to the directory corresponding to the chapter that you are interested in and run the following command to launch a server running the notebook for that particular chapter:\n",
      "\n",
      "<code>ipython notebook --ip='0.0.0.0'</code>\n",
      "\n",
      "This command will start an IPython Notebook server on the virtual machine that you can access by pointing your everyday web browser to the port it provides in its standard output message as it starts up.\n",
      "\n",
      "If you haven't already used IPython Notebook, you should consider spending a few minutes tinkering around in it: http://ipython.org/notebook.html\n",
      "\n",
      "If you experience any problems at all, please reach out on Twitter, Facebook, or GitHub for help.\n",
      "\n",
      "* Twitter: http://twitter.com/socialwebmining (@SocialWebMining)\n",
      "* Facebook: http://facebook.com/MiningTheSocialWeb\n",
      "* GitHub: https://github.com/ptwobrussell/Mining-the-Social-Web-2nd-Edition/\n",
      "\n",
      "Thanks again for your interest in _Mining the Social Web_. I truly hope that you learn a lot from this book and have a lot of fun along the way!\n",
      "\n",
      "Best Regards,<br />\n",
      "Matthew A. Russell<br />\n",
      "Twitter: @ptwobrussell"
     ]
    },
    {
     "cell_type": "code",
     "collapsed": false,
     "input": [
      "# Try typing some code in this cell and executing it!"
     ],
     "language": "python",
     "metadata": {},
     "outputs": []
    },
    {
     "cell_type": "markdown",
     "metadata": {},
     "source": [
      "## Copyright and Licensing\n",
      "\n",
      "You are free to use or adapt this notebook for any purpose you'd like. However, please respect the following \"Simplified BSD License\" (also known as \"FreeBSD License\") that governs its use. Basically, you can do whatever you want with the code so long as you retain the copyright notice.\n",
      "\n",
      "Copyright (c) 2013, Matthew A. Russell\n",
      "All rights reserved.\n",
      "\n",
      "Redistribution and use in source and binary forms, with or without\n",
      "modification, are permitted provided that the following conditions are met: \n",
      "\n",
      "1. Redistributions of source code must retain the above copyright notice, this\n",
      "   list of conditions and the following disclaimer. \n",
      "2. Redistributions in binary form must reproduce the above copyright notice,\n",
      "   this list of conditions and the following disclaimer in the documentation\n",
      "   and/or other materials provided with the distribution. \n",
      "\n",
      "THIS SOFTWARE IS PROVIDED BY THE COPYRIGHT HOLDERS AND CONTRIBUTORS \"AS IS\" AND\n",
      "ANY EXPRESS OR IMPLIED WARRANTIES, INCLUDING, BUT NOT LIMITED TO, THE IMPLIED\n",
      "WARRANTIES OF MERCHANTABILITY AND FITNESS FOR A PARTICULAR PURPOSE ARE\n",
      "DISCLAIMED. IN NO EVENT SHALL THE COPYRIGHT OWNER OR CONTRIBUTORS BE LIABLE FOR\n",
      "ANY DIRECT, INDIRECT, INCIDENTAL, SPECIAL, EXEMPLARY, OR CONSEQUENTIAL DAMAGES\n",
      "(INCLUDING, BUT NOT LIMITED TO, PROCUREMENT OF SUBSTITUTE GOODS OR SERVICES;\n",
      "LOSS OF USE, DATA, OR PROFITS; OR BUSINESS INTERRUPTION) HOWEVER CAUSED AND\n",
      "ON ANY THEORY OF LIABILITY, WHETHER IN CONTRACT, STRICT LIABILITY, OR TORT\n",
      "(INCLUDING NEGLIGENCE OR OTHERWISE) ARISING IN ANY WAY OUT OF THE USE OF THIS\n",
      "SOFTWARE, EVEN IF ADVISED OF THE POSSIBILITY OF SUCH DAMAGE.\n",
      "\n",
      "The views and conclusions contained in the software and documentation are those\n",
      "of the authors and should not be interpreted as representing official policies, \n",
      "either expressed or implied, of the FreeBSD Project."
     ]
    }
   ],
   "metadata": {}
  }
 ]
}