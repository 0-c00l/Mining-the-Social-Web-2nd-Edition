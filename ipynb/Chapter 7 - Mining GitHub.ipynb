{
 "metadata": {
  "name": "Chapter 7 - Mining GitHub"
 },
 "nbformat": 3,
 "nbformat_minor": 0,
 "worksheets": [
  {
   "cells": [
    {
     "cell_type": "markdown",
     "metadata": {},
     "source": [
      "#Mining the Social Web, 2nd Edition\n",
      "\n",
      "##Chapter 7: Mining GitHub: Inspecting Software Collaboration Habits, Building Interest Graphs, and More\n",
      "\n",
      "This IPython Notebook provides an interactive way to follow along with and explore the numbered examples from [_Mining the Social Web (2nd Edition)_](http://bit.ly/135dHfs). The intent behind this notebook is to reinforce the concepts from the sample code in a fun, convenient, and effective way. This notebook assumes that you are reading along with the book and have the context of the discussion as you work through these exercises.\n",
      "\n",
      "In the somewhat unlikely event that you've somehow stumbled across this notebook outside of its context on GitHub, [you can find the full source code repository here](http://bit.ly/16kGNyb).\n",
      "\n",
      "## Copyright and Licensing\n",
      "\n",
      "You are free to use or adapt this notebook for any purpose you'd like. However, please respect the [Simplified BSD License](https://github.com/ptwobrussell/Mining-the-Social-Web-2nd-Edition/blob/master/LICENSE.txt) that governs its use."
     ]
    },
    {
     "cell_type": "markdown",
     "metadata": {},
     "source": [
      "**Example 1. Programatically obtaining a \"Personal API Access Token\" for accessing GitHub's API**"
     ]
    },
    {
     "cell_type": "code",
     "collapsed": false,
     "input": [
      "import requests\n",
      "from getpass import getpass\n",
      "import json\n",
      "\n",
      "username = '' # Your GitHub username\n",
      "password = '' # Your GitHub password\n",
      "\n",
      "# Note that credentials will be transmitted over a secure SSL connection\n",
      "url = 'https://api.github.com/authorizations'\n",
      "note = 'Mining the Social Web, 2nd Ed.'\n",
      "post_data = {'scopes':['repo'],'note': note }\n",
      "\n",
      "response = requests.post(\n",
      "    url,\n",
      "    auth = (username, password),\n",
      "    data = json.dumps(post_data),\n",
      "    )   \n",
      "\n",
      "print \"API response:\", response.text\n",
      "print\n",
      "print \"Your OAuth token is\", response.json()['token']\n",
      "\n",
      "# Go to https://github.com/settings/applications to revoke this token"
     ],
     "language": "python",
     "metadata": {},
     "outputs": []
    },
    {
     "cell_type": "markdown",
     "metadata": {},
     "source": [
      "**Example 2. Making direct HTTP requests to GitHub's API**"
     ]
    },
    {
     "cell_type": "code",
     "collapsed": false,
     "input": [
      "import requests\n",
      "\n",
      "# An unauthenticated request that doesn't contain an ?access_token=xxx query string\n",
      "\n",
      "response = requests.get(\"https://api.github.com/repos/ptwobrussell/Mining-the-Social-Web/stargazers\")\n",
      "\n",
      "# Display one stargazer\n",
      "\n",
      "print json.dumps(response.json()[0], indent=1)\n",
      "print\n",
      "\n",
      "# Display headers\n",
      "for (k,v) in response.headers.items():\n",
      "    print k, \"=>\", v"
     ],
     "language": "python",
     "metadata": {},
     "outputs": []
    },
    {
     "cell_type": "markdown",
     "metadata": {},
     "source": [
      "**Example 3. Using PyGithub to query for stargazers of a particular repository**"
     ]
    },
    {
     "cell_type": "code",
     "collapsed": false,
     "input": [
      "from github import Github\n",
      "\n",
      "# XXX: Specify your own access token here\n",
      "\n",
      "ACCESS_TOKEN = ''\n",
      "\n",
      "# Specify a username and repository of interest for that user\n",
      "\n",
      "USER = 'ptwobrussell'\n",
      "REPO = 'Mining-the-Social-Web'\n",
      "\n",
      "client = Github(ACCESS_TOKEN, per_page=100)\n",
      "user = client.get_user(USER)\n",
      "repo = user.get_repo(REPO)\n",
      "\n",
      "# Get a list of people who have bookmarked the repo.\n",
      "# Since you'll get a lazy iterator back, you have to traverse\n",
      "# it if you want to get the total number of stargazers\n",
      "\n",
      "stargazers = [ s for s in repo.get_stargazers() ]\n",
      "print \"Number of stargazers\", len(stargazers)"
     ],
     "language": "python",
     "metadata": {},
     "outputs": []
    },
    {
     "cell_type": "markdown",
     "metadata": {},
     "source": [
      "**Example 4. A trivial property graph**"
     ]
    },
    {
     "cell_type": "code",
     "collapsed": false,
     "input": [
      "import networkx as nx\n",
      "\n",
      "# Create a directed graph\n",
      "\n",
      "g = nx.DiGraph()\n",
      "\n",
      "# Add an edge to the directed graph from X to Y\n",
      "\n",
      "g.add_edge('X', 'Y')\n",
      "\n",
      "# Print some statistics about the graph\n",
      "\n",
      "print nx.info(g)\n",
      "print\n",
      "\n",
      "# Get the nodes and edges from the graph\n",
      "\n",
      "print \"Nodes:\", g.nodes()\n",
      "print \"Edges:\", g.edges()\n",
      "print\n",
      "\n",
      "# Get node properties\n",
      "\n",
      "print \"X props:\", g.node['X']\n",
      "print \"Y props:\", g.node['Y']\n",
      "\n",
      "# Get edge properties\n",
      "\n",
      "print \"X=>Y props:\", g['X']['Y']\n",
      "print\n",
      "\n",
      "# Update a node property\n",
      "\n",
      "g.node['X'].update({'prop1' : 'value1'})\n",
      "print \"X props:\", g.node['X']\n",
      "print\n",
      "\n",
      "# Update an edge property\n",
      "\n",
      "g['X']['Y'].update({'label' : 'label1'})\n",
      "print \"X=>Y props:\", g['X']['Y']"
     ],
     "language": "python",
     "metadata": {},
     "outputs": []
    },
    {
     "cell_type": "markdown",
     "metadata": {},
     "source": [
      "**Example 5. Construct an egograph of a repository and its stargazers**"
     ]
    },
    {
     "cell_type": "code",
     "collapsed": false,
     "input": [
      "# Expand the initial graph with (interest) edges pointing each direction for additional people interested.\n",
      "# Take care to ensure that user and repo nodes to not collide by appending their type\n",
      "\n",
      "import networkx as nx\n",
      "\n",
      "g = nx.DiGraph()\n",
      "g.add_node(repo.name + '(repo)', type='repo', lang=repo.language, owner=user.login)\n",
      "\n",
      "for sg in stargazers:\n",
      "    g.add_node(sg.login + '(user)', type='user')\n",
      "    g.add_edge(sg.login + '(user)', repo.name + '(repo)', type='gazes')"
     ],
     "language": "python",
     "metadata": {},
     "outputs": []
    },
    {
     "cell_type": "markdown",
     "metadata": {},
     "source": [
      "**Example 6. Introduction of some handy graph operations**"
     ]
    },
    {
     "cell_type": "code",
     "collapsed": false,
     "input": [
      "# Poke around on the current graph to get a better feel for how NetworkX works\n",
      "\n",
      "print nx.info(g)\n",
      "print\n",
      "print g.node['Mining-the-Social-Web(repo)']\n",
      "print g.node['ptwobrussell(user)']\n",
      "print\n",
      "print g['ptwobrussell(user)']['Mining-the-Social-Web(repo)']\n",
      "# The next line would throw a KeyError since no such edge exists\n",
      "#print g['Mining-the-Social-Web(repo)']['ptwobrussell(user)']\n",
      "print\n",
      "print g['ptwobrussell(user)']\n",
      "print g['Mining-the-Social-Web(repo)']\n",
      "print\n",
      "print g.in_edges(['ptwobrussell(user)'])\n",
      "print g.out_edges(['ptwobrussell(user)'])\n",
      "print\n",
      "print g.in_edges(['Mining-the-Social-Web(repo)'])\n",
      "print g.out_edges(['Mining-the-Social-Web(repo)'])"
     ],
     "language": "python",
     "metadata": {},
     "outputs": []
    },
    {
     "cell_type": "markdown",
     "metadata": {},
     "source": [
      "**Example 7. Adding social relationships to the graph through the inclusion of \"follows\" edges**"
     ]
    },
    {
     "cell_type": "code",
     "collapsed": false,
     "input": [
      "# Assuming that 5000 requests per hour is plenty, so no logic for\n",
      "# handling complications arising from rate limiting issues are included.\n",
      "\n",
      "# Add (social) edges from the stargazers' followers. This can take a while \n",
      "# because of all of the potential API calls to Github. The approximate number\n",
      "# of requests for followers for each iteration of this loop can be calculated as\n",
      "# math.ceil(sg.get_followers() / 100.0) per the API returning up to 100 items\n",
      "# at a time\n",
      "\n",
      "import sys\n",
      "\n",
      "for i, sg in enumerate(stargazers):\n",
      "    \n",
      "    # Add \"follows\" edges between stargazers in the graph if any relationships exist\n",
      "    try:\n",
      "        for follower in sg.get_followers():\n",
      "            if follower.login + '(user)' in g:\n",
      "                g.add_edge(follower.login + '(user)', sg.login + '(user)', type='follows')\n",
      "                # print >> sys.stderr, \"Added follower edge\"\n",
      "    except Exception, e: #ssl.SSLError\n",
      "        print >> sys.stderr, \"Encountered an error fetching followers for\", sg.login, \" Skipping.\"\n",
      "        print >> sys.stderr, e\n",
      "\n",
      "    print \"Processed\", i+1, \" stargazers. Num nodes/edges in graph\", g.number_of_nodes(), \"/\", g.number_of_edges()\n",
      "    print \"Rate limit remaining\", client.rate_limiting"
     ],
     "language": "python",
     "metadata": {},
     "outputs": []
    },
    {
     "cell_type": "markdown",
     "metadata": {},
     "source": [
      "**Example 8. Sidebar discussion on using a threadpool to improve I/O by parallelizing API calls**"
     ]
    },
    {
     "cell_type": "code",
     "collapsed": false,
     "input": [
      "#XXX: EXPERIMENTAL THREADED VERSION OF THE ABOVE. Needs more testing.\n",
      "\n",
      "%%timeit\n",
      "import sys\n",
      "from multiprocessing.pool import ThreadPool\n",
      "import threading\n",
      "\n",
      "lock = threading.RLock()\n",
      "\n",
      "def addEdges(_sg):\n",
      "    with lock:\n",
      "        # Add \"follows\" edges between stargazers in the graph if any relationships exist\n",
      "        try:\n",
      "            for follower in _sg.get_followers():\n",
      "                if follower.login + '(user)' in g:\n",
      "                    g.add_edge(follower.login + '(user)', _sg.login + '(user)', type='follows')\n",
      "                    # print >> sys.stderr, \"Added follower edge\"\n",
      "        except Exception, e: #ssl.SSLError\n",
      "            print >> sys.stderr, \"Encountered an error fetching followers for\", _sg.login, \" Skipping.\"\n",
      "            print >> sys.stderr, e\n",
      "    \n",
      "        print \"Num nodes/edges in graph\", g.number_of_nodes(), \"/\", g.number_of_edges()\n",
      "        print \"Rate limit remaining\", client.rate_limiting\n",
      "        sys.stdout.flush()\n",
      "\n",
      "pool = ThreadPool(10)\n",
      "pool.map(addEdges, stargazers)\n",
      "print \"Done\""
     ],
     "language": "python",
     "metadata": {},
     "outputs": []
    },
    {
     "cell_type": "markdown",
     "metadata": {},
     "source": [
      "** Example 9. Exploring the updated graph's \"follows\" edges**"
     ]
    },
    {
     "cell_type": "code",
     "collapsed": false,
     "input": [
      "# Let's see how many social edges we added since last time.\n",
      "print nx.info(g)\n",
      "\n",
      "# The number of \"follows\" edges is the difference\n",
      "print len([e for e in g.edges_iter(data=True) if e[2]['type'] == 'follows'])\n",
      "\n",
      "# The repository owner is possibly one of the more popular users being followed in this graph\n",
      "print len([e for e in g.edges_iter(data=True) if e[2]['type'] == 'follows' and e[1] == 'ptwobrussell(user)'])\n",
      "\n",
      "# A frequency diagram computes the general case\n",
      "from collections import Counter\n",
      "\n",
      "c = Counter([e[1] for e in g.edges_iter(data=True) if e[2]['type'] == 'follows'])\n",
      "popular_users = [ (u, f) for (u, f) in c.most_common() if f > 1 ]\n",
      "print \"Number of popular users\", len(popular_users)\n",
      "print \"Top 10 popular users:\", popular_users[:10]"
     ],
     "language": "python",
     "metadata": {},
     "outputs": []
    },
    {
     "cell_type": "markdown",
     "metadata": {},
     "source": [
      "**Example 10. Snapshotting (pickling) the graph's state to disk**"
     ]
    },
    {
     "cell_type": "code",
     "collapsed": false,
     "input": [
      "# Save your work by serializing out (pickling) the graph\n",
      "nx.write_gpickle(g, \"resources/ch07-github/data/github.gpickle.1\")\n",
      "\n",
      "# How to restore the graph...\n",
      "# = nx.read_gpickle(\"resources/ch07-github/data/github.gpickle.1\")"
     ],
     "language": "python",
     "metadata": {},
     "outputs": []
    },
    {
     "cell_type": "markdown",
     "metadata": {},
     "source": [
      "**Example 11. Adding additional starred repositories to the graph**"
     ]
    },
    {
     "cell_type": "code",
     "collapsed": false,
     "input": [
      "# Let's add each stargazer's additional starred repos and add edges to find additional interests.\n",
      "\n",
      "#XXX: This code can take a while (even with per_page=100) because so many requests are made. \n",
      "#Part of the slow down might be in the starred.owner.login lookup that isn't being batched up.\n",
      "\n",
      "processed = 0 \n",
      "for sg in stargazers:\n",
      "    try:\n",
      "        for starred in sg.get_starred():\n",
      "            g.add_node(starred.name + '(repo)', type='repo', lang=starred.language, owner=starred.owner.login) # XXX: do we really need this?\n",
      "            g.add_edge(sg.login + '(user)', starred.name + '(repo)', type='gazes_at')\n",
      "            g.add_edge(starred.name + '(repo)', sg.login + '(user)', type='gazed_at_by')\n",
      "    except Exception, e: #ssl.SSLError:\n",
      "        print \"Encountered an error fetching starred repos for\", sg.login, \" Skipping.\"\n",
      "\n",
      "    processed += 1\n",
      "    print \"processed\", processed, \" stargazers' starred repos\"\n",
      "    print \"num nodes/edges in graph\", g.number_of_nodes(), g.number_of_edges()\n",
      "    print \"rate limit\", client.rate_limiting"
     ],
     "language": "python",
     "metadata": {},
     "outputs": []
    },
    {
     "cell_type": "code",
     "collapsed": false,
     "input": [
      "# Save your work by serializing out another snapshot of the graph.\n",
      "nx.write_gpickle(g, \"github.interest.gpickle2\")\n",
      "#g = nx.read_gpickle(\"github.interest.gpickle\")"
     ],
     "language": "python",
     "metadata": {},
     "outputs": []
    },
    {
     "cell_type": "code",
     "collapsed": false,
     "input": [
      "# Poke around: how to get users/repos\n",
      "\n",
      "users = [n for n in g.nodes_iter() if g.node[n]['type'] == 'user']\n",
      "\n",
      "repos = [n for n in g.nodes_iter() if g.node[n]['type'] == 'repo']"
     ],
     "language": "python",
     "metadata": {},
     "outputs": []
    },
    {
     "cell_type": "code",
     "collapsed": false,
     "input": [
      "# Step 4:\n",
      "# Iterate over all of the repos, and add edges for programming languages for each person in the graph...\n",
      "# We'll also add edges back to repos so that you have a good 'pivot' - discuss difference between properties and edges\n",
      "\n",
      "# XXX: Also could be interesting to analyze how many repos are/aren't owned by their stargazer\n",
      "\n",
      "repos = [n for n in g.nodes_iter() if g.node[n]['type'] == 'repo'] #can't iterate over nodes because of RuntimeError with changing size of dict during iteration\n",
      "for repo in repos:\n",
      "    lang = (g.node[repo]['lang'] or \"\") + \"(lang)\" # Value could be None. XXX: prefix with u to make it unicode?\n",
      "    stargazers = [n for n in g[repo] if g[repo][n]['type'] == 'gazed_at_by']\n",
      "    \n",
      "    for sg in stargazers:\n",
      "        g.add_node(lang, type='lang')\n",
      "\n",
      "        g.add_edge(sg, lang, type='programs_with_lang')\n",
      "        g.add_edge(lang, sg, type='programmed_by_user')\n",
      "\n",
      "        g.add_edge(lang, repo, type='implements')\n",
      "        g.add_edge(repo, lang, type='implemented_with_lang')"
     ],
     "language": "python",
     "metadata": {},
     "outputs": []
    },
    {
     "cell_type": "code",
     "collapsed": false,
     "input": [
      "# Save your work\n",
      "nx.write_gpickle(g, \"github.interest.gpickle3\")"
     ],
     "language": "python",
     "metadata": {},
     "outputs": []
    },
    {
     "cell_type": "code",
     "collapsed": false,
     "input": [],
     "language": "python",
     "metadata": {},
     "outputs": []
    }
   ],
   "metadata": {}
  }
 ]
}