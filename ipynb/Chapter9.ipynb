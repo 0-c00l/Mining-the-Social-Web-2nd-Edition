{
 "metadata": {
  "name": "Chapter9"
 },
 "nbformat": 3,
 "nbformat_minor": 0,
 "worksheets": [
  {
   "cells": [
    {
     "cell_type": "markdown",
     "metadata": {},
     "source": [
      "#Mining the Social Web, 2nd Edition\n",
      "\n",
      "##Part II: Twitter API Cookbook\n",
      "\n",
      "This IPython Notebook provides an interactive way to follow along with and explore the numbered examples from [_Mining the Social Web (2nd Edition)_](http://bit.ly/135dHfs). The intent behind this notebook is to reinforce the concepts from the sample code in a fun, convenient, and effective way. This notebook assumes that you are reading along with the book and have the context of the discussion as you work through these exercises.\n",
      "\n",
      "In the somewhat unlikely event that you've somehow stumbled across this notebook outside of its context on GitHub, [you can find the full source code repository here](http://bit.ly/16kGNyb).\n",
      "\n",
      "## Copyright and Licensing\n",
      "\n",
      "You are free to use or adapt this notebook for any purpose you'd like. However, please respect the [Simplified BSD License](https://github.com/ptwobrussell/Mining-the-Social-Web-2nd-Edition/blob/master/LICENSE.txt) that governs its use."
     ]
    },
    {
     "cell_type": "markdown",
     "metadata": {},
     "source": [
      "**Example 1. Instant Twitter API Developer Access (No Authentication Prompts)**"
     ]
    },
    {
     "cell_type": "code",
     "collapsed": false,
     "input": [
      "import twitter\n",
      "\n",
      "# XXX: Go to http://twitter.com/apps/new to create an app and get values\n",
      "# for these credentials that you'll need to provide in place of these\n",
      "# empty string values that are defined as placeholders.\n",
      "# See https://dev.twitter.com/docs/auth/oauth for more information \n",
      "# on Twitter's OAuth implementation\n",
      "\n",
      "CONSUMER_KEY = ''\n",
      "CONSUMER_SECRET = ''\n",
      "OAUTH_TOKEN = ''\n",
      "OAUTH_TOKEN_SECRET = ''\n",
      "\n",
      "auth = twitter.oauth.OAuth(OAUTH_TOKEN, OAUTH_TOKEN_SECRET,\n",
      "                           CONSUMER_KEY, CONSUMER_SECRET)\n",
      "\n",
      "twitter_api = twitter.Twitter(auth=auth)\n",
      "\n",
      "# Nothing to see by displaying twitter_api except that it's now a\n",
      "# defined variable\n",
      "\n",
      "print twitter_api"
     ],
     "language": "python",
     "metadata": {},
     "outputs": []
    },
    {
     "cell_type": "markdown",
     "metadata": {},
     "source": [
      "**Example 2. General Purpose Twitter API Access (Involves User Authentication Prompts)**"
     ]
    },
    {
     "cell_type": "code",
     "collapsed": false,
     "input": [
      "import twitter\n",
      "from twitter.oauth import write_token_file, read_token_file\n",
      "from twitter.oauth_dance import oauth_dance\n",
      "\n",
      "# Go to http://twitter.com/apps/new to create an app and get these items\n",
      "# See also http://dev.twitter.com/pages/oauth_single_token\n",
      "\n",
      "APP_NAME = ''\n",
      "CONSUMER_KEY = ''\n",
      "CONSUMER_SECRET = ''\n",
      "\n",
      "\n",
      "def oauth_login(app_name=APP_NAME,\n",
      "                consumer_key=CONSUMER_KEY, \n",
      "                consumer_secret=CONSUMER_SECRET, \n",
      "                token_file='resources/ch09-twitterrecipes/twitter.oauth_access'):\n",
      "\n",
      "    try:\n",
      "        (access_token, access_token_secret) = read_token_file(token_file)\n",
      "    except IOError, e:\n",
      "        (access_token, access_token_secret) = oauth_dance(app_name, consumer_key,\n",
      "                consumer_secret)\n",
      "\n",
      "\n",
      "        write_token_file(token_file, access_token, access_token_secret)\n",
      "\n",
      "        print >> sys.stderr, \"OAuth Success. Token file stored to\", token_file\n",
      "\n",
      "    return twitter.Twitter(auth=twitter.oauth.OAuth(access_token, access_token_secret,\n",
      "                           consumer_key, consumer_secret))\n",
      "\n",
      "\n",
      "twitter_api = oauth_login(APP_NAME, CONSUMER_KEY, CONSUMER_SECRET)\n",
      "print twitter_api"
     ],
     "language": "python",
     "metadata": {},
     "outputs": []
    },
    {
     "cell_type": "markdown",
     "metadata": {},
     "source": [
      "**Example X. Discovering the Trending Topics**"
     ]
    },
    {
     "cell_type": "code",
     "collapsed": false,
     "input": [
      "import json\n",
      "import twitter\n",
      "\n",
      "def twitter_trends(twitter_api, woe_id):\n",
      "    # Prefix id with the underscore for query string parameterization.\n",
      "    # Without the underscore, the twitter package appends the id value\n",
      "    # to the URL itself as a special case keyword argument\n",
      "    return twitter_api.trends.place(_id=woe_id)\n",
      "\n",
      "\n",
      "# Sample usage\n",
      "\n",
      "twitter_api = oauth_login()\n",
      "\n",
      "# See https://dev.twitter.com/docs/api/1.1/get/trends/place and\n",
      "# http://developer.yahoo.com/geo/geoplanet/ for details on\n",
      "# Yahoo! Where On Earth ID\n",
      "\n",
      "WORLD_WOE_ID = 1\n",
      "world_trends = twitter_trends(twitter_api, WORLD_WOE_ID)\n",
      "print json.dumps(world_trends, indent=1)\n",
      "\n",
      "US_WOE_ID = 23424977\n",
      "us_trends = twitter_trends(twitter_api, US_WOE_ID)\n",
      "print json.dumps(us_trends, indent=1)"
     ],
     "language": "python",
     "metadata": {},
     "outputs": []
    },
    {
     "cell_type": "markdown",
     "metadata": {},
     "source": [
      "**Example X. Simple Search**"
     ]
    },
    {
     "cell_type": "code",
     "collapsed": false,
     "input": [
      "def twitter_search(twitter_api, q, max_results=200, **kw):\n",
      "    \n",
      "    # See https://dev.twitter.com/docs/api/1.1/get/search/tweets    \n",
      "    search_results = twitter_api.search.tweets(q=q, count=100, **kw)\n",
      "    \n",
      "    statuses = search_results['statuses']\n",
      "    \n",
      "    # Iterate through batches of results by following the cursor until we\n",
      "    # reach the desired number of results, keeping in mind that OAuth users\n",
      "    # can \"only\" make 180 search queries per 15 minute interval. See \n",
      "    # https://dev.twitter.com/docs/rate-limiting/1.1/limits\n",
      "    # for details. A reasonable number of results is ~1000, although not\n",
      "    # 1000 results may exist for all queries.\n",
      "    \n",
      "    # Enforce a reasonable limit\n",
      "    max_results = min(1000, max_results)\n",
      "    \n",
      "    for _ in range(10): # 10*100 = 1000\n",
      "        try:\n",
      "            next_results = search_results['search_metadata']['next_results']\n",
      "        except KeyError, e: # No more results when next_results doesn't exist\n",
      "            break\n",
      "            \n",
      "        # Create a dictionary from next_results, which has the following form:\n",
      "        # ?max_id=313519052523986943&q=NCAA&include_entities=1\n",
      "        kwargs = dict([ kv.split('=') \n",
      "                        for kv in next_results[1:].split(\"&\") ])\n",
      "        \n",
      "        search_results = twitter_api.search.tweets(**kwargs)\n",
      "        statuses += search_results['statuses']\n",
      "        \n",
      "        if len(statuses) > max_results: \n",
      "            break\n",
      "            \n",
      "    return statuses\n",
      "\n",
      "# Sample usage\n",
      "\n",
      "twitter_api = oauth_login()\n",
      "\n",
      "q = '#MentionSomeoneImportantForYou'\n",
      "results = twitter_search(twitter_api, q, max_results=10)\n",
      "        \n",
      "# Show one sample search result by slicing the list...\n",
      "print json.dumps(results[0], indent=1)"
     ],
     "language": "python",
     "metadata": {},
     "outputs": []
    },
    {
     "cell_type": "markdown",
     "metadata": {},
     "source": [
      "**Example X. Advanced Search**"
     ]
    },
    {
     "cell_type": "code",
     "collapsed": false,
     "input": [
      "# See https://dev.twitter.com/docs/api/1.1/get/search/tweets and https://dev.twitter.com/docs/using-search"
     ],
     "language": "python",
     "metadata": {},
     "outputs": []
    },
    {
     "cell_type": "markdown",
     "metadata": {},
     "source": [
      "**Example X. Building Convenience Wrappers**"
     ]
    },
    {
     "cell_type": "code",
     "collapsed": false,
     "input": [
      "from functools import partial\n",
      "\n",
      "pp = partial(json.dumps, indent=1)\n",
      "\n",
      "twitter_world_trends = partial(twitter_trends, WORLD_WOE_ID)\n",
      "\n",
      "print pp(twitter_world_trends())\n",
      "\n",
      "authenticated_twitter_search = partial(twitter_search, twitter_api)\n",
      "results = authenticated_twitter_search(\"iPhone\")\n",
      "print pp(results)\n",
      "\n",
      "authenticated_iphone_twitter_search = partial(authenticated_twitter_search, \"iPhone\")\n",
      "results = authenticated_iphone_twitter_search()\n",
      "print pp(results)"
     ],
     "language": "python",
     "metadata": {},
     "outputs": []
    },
    {
     "cell_type": "markdown",
     "metadata": {},
     "source": [
      "**Example X. Saving and restoring JSON data with flat files**"
     ]
    },
    {
     "cell_type": "code",
     "collapsed": false,
     "input": [
      "import io, json\n",
      "\n",
      "def save_json(filename, data):\n",
      "    with io.open('resources/ch09-twitterrecipes/{0}.json'.format(filename), 'w', encoding='utf-8') as f:\n",
      "        f.write(unicode(json.dumps(data, ensure_ascii=False)))\n",
      "\n",
      "def load_json(filename):\n",
      "    with io.open('resources/ch09-twitterrecipes/{0}.json'.format(filename), encoding='utf-8') as f:\n",
      "        return f.read()\n",
      "        \n",
      "twitter_api = oauth_login()\n",
      "q = 'iPhone'\n",
      "results = twitter_search(twitter_api, q, max_results=10)\n",
      "\n",
      "# Sample usage\n",
      "\n",
      "save_json(q, results)\n",
      "results = load_json(q)\n",
      "\n",
      "print json.dumps(results, indent=1)\n",
      "\n",
      "#XXX Show how to use tarfile to optionally compress it"
     ],
     "language": "python",
     "metadata": {},
     "outputs": []
    },
    {
     "cell_type": "markdown",
     "metadata": {},
     "source": [
      "**Example X. Saving and accessing JSON data with MongoDB**"
     ]
    },
    {
     "cell_type": "code",
     "collapsed": false,
     "input": [
      "import json\n",
      "import pymongo # pip install pymongo\n",
      "from bson import json_util # Comes with pymongo\n",
      "\n",
      "def save_to_mongo(data, mongo_db, mongo_db_coll, **mongo_conn_kw):\n",
      "    \n",
      "    # Connects to the MongoDB server running on \n",
      "    # localhost:27017 by default\n",
      "    \n",
      "    client = pymongo.MongoClient(**mongo_conn_kw)\n",
      "    \n",
      "    # Get a reference to a particular database\n",
      "    \n",
      "    db = client[mongo_db]\n",
      "    \n",
      "    # Reference a particular collection on the database\n",
      "    \n",
      "    coll = db[mongo_db_coll]\n",
      "    \n",
      "    # Perform a bulk insert and  return the ids\n",
      "    \n",
      "    return coll.insert(data)\n",
      "\n",
      "def load_from_mongo(mongo_db, mongo_db_coll, **mongo_conn_kw):\n",
      "    # Only do this for relatively small collections you'd want to\n",
      "    # work with directly in memory. Leverage a MongoDB connection\n",
      "    # directly for accessing non-trvial amounts of data.\n",
      "    \n",
      "    client = pymongo.MongoClient(**mongo_conn_kw)\n",
      "    db = client[mongo_db]\n",
      "    coll = db[mongo_db_coll]\n",
      "    return [ item for item in coll.find() ]\n",
      "\n",
      "\n",
      "# Sample usage\n",
      "\n",
      "twitter_api = oauth_login()\n",
      "q = 'iPhone'\n",
      "results = twitter_search(twitter_api, q, max_results=10)\n",
      "\n",
      "save_to_mongo(results, 'search_results', q)\n",
      "\n",
      "load_from_mongo('search_results', q)"
     ],
     "language": "python",
     "metadata": {},
     "outputs": []
    },
    {
     "cell_type": "markdown",
     "metadata": {},
     "source": [
      "**Example X. Collecting time-series data**"
     ]
    },
    {
     "cell_type": "code",
     "collapsed": false,
     "input": [
      "import sys\n",
      "import datetime\n",
      "import time\n",
      "import twitter\n",
      "\n",
      "def get_time_series_data(api_func, mongo_db_name, mongo_db_coll, secs_per_interval=60, max_intervals=15, **mongo_conn_kw):\n",
      "    \n",
      "    # Default settings of 15 intervals and 1 API call per interval ensures that you'll not exceed the Twitter rate limit\n",
      "    \n",
      "    while True:\n",
      "    \n",
      "        # A timestamp of the form '2013-06-14 12:52:07'\n",
      "        now = str(datetime.datetime.now()).split(\".\")[0]\n",
      "    \n",
      "        ids = save_to_mongo(api_func(), mongo_db_name, mongo_db_coll + \"-\" + now)\n",
      "    \n",
      "        print >> sys.stderr, \"Write {0} trends\".format(len(ids))\n",
      "        print >> sys.stderr, \"Zzz...\"\n",
      "        print >> sys.stderr.flush()\n",
      "    \n",
      "        time.sleep(secs_per_interval) # seconds\n",
      "        \n",
      "# Sample usage\n",
      "\n",
      "twitter_api = oauth_login()\n",
      "\n",
      "get_time_series_data(twitter_world_trends, 'time-series', 'twitter_world_trends')"
     ],
     "language": "python",
     "metadata": {},
     "outputs": []
    },
    {
     "cell_type": "markdown",
     "metadata": {},
     "source": []
    },
    {
     "cell_type": "code",
     "collapsed": false,
     "input": [],
     "language": "python",
     "metadata": {},
     "outputs": []
    },
    {
     "cell_type": "markdown",
     "metadata": {},
     "source": []
    },
    {
     "cell_type": "code",
     "collapsed": false,
     "input": [],
     "language": "python",
     "metadata": {},
     "outputs": []
    }
   ],
   "metadata": {}
  }
 ]
}