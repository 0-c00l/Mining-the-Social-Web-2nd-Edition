{
 "metadata": {
  "name": "_AppendixA"
 },
 "nbformat": 3,
 "nbformat_minor": 0,
 "worksheets": [
  {
   "cells": [
    {
     "cell_type": "markdown",
     "metadata": {},
     "source": [
      "# Facebook OAuth (ala IPython Notebook)\n",
      "\n",
      "Facebook implements OAuth 2.0 as its standard authentication mechanism, and \"Example 2\" demonstrates how to use it to get an access token for making API requests once you've created an app and gotten a \"client id\" value that is used in the so-called \"OAuth dance.\" Note that you will need an ordinary Facebook account in order to login, create an app, and get these credentials. You can create an app through the \"Developer\" section of your account settings as shown below or by navigating directly to https://developers.facebook.com/apps/. During development or debugging cycles, you may sometimes find it convenient to also reference the access token that's available to you through the Graph API Explorer tool at https://developers.facebook.com/tools/explorer.\n",
      "<br />\n",
      "<br />\n",
      "<img src=\"files/resources/ch02-facebook/images/FB_create_app2.png\" width=\"400px\"><br />\n",
      "Create apps at https://developers.facebook.com/apps/<br />\n",
      "<br />\n",
      "<br />\n",
      "<img src=\"files/resources/ch02-facebook/images/FB_create_app1.png\" width=\"400px\"><br />\n",
      "Clicking on the \"Edit\" button provides detailed information<br />\n",
      "about the app, including an opportunity to set its \"Site URL\"<br />\n",
      "value that you'll need for the OAuth flow (described later in<br />\n",
      "this notebook.)"
     ]
    },
    {
     "cell_type": "markdown",
     "metadata": {},
     "source": [
      "You will want to be logged into Facebook with this web browser before running Example 2 in order to achieve a seamless OAuth flow. While you could opt to continue using an access token from https://developers.facebook.com/tools/explorer/ as illustrated in Chapter 2, it's very useful to be able to programatically obtain an access token (and a necessity if you want to ever request access to someone else's data besides your own.)\n",
      "\n",
      "The process of obtaining an access token is fairly straight forward, but an implementation in IPython Notebook is a bit tricker due to the nature of embedding a web server, capturing information within web server contexts, and handling the various redirects along the way."
     ]
    },
    {
     "cell_type": "markdown",
     "metadata": {},
     "source": [
      "**Example 2. Getting an OAuth token for a Facebook application**"
     ]
    },
    {
     "cell_type": "code",
     "collapsed": false,
     "input": [
      "import os\n",
      "import urllib\n",
      "from flask import Flask, request\n",
      "import multiprocessing\n",
      "from threading import Timer\n",
      "from IPython.display import IFrame\n",
      "from IPython.core.display import display\n",
      "\n",
      "# XXX: Get this value from your Facebook application's settings for the OAuth flow\n",
      "# at https://developers.facebook.com/apps\n",
      "\n",
      "APP_ID = ''\n",
      "\n",
      "# This value is where Facebook will redirect. We'll configure an embedded\n",
      "# web server to be serving requests here\n",
      "\n",
      "REDIRECT_URI = 'http://localhost:5000/oauth_helper'\n",
      "\n",
      "# You could customize which extended permissions are being requested for your app\n",
      "# by adding additional items to the list below. See\n",
      "# https://developers.facebook.com/docs/reference/login/extended-permissions/\n",
      "\n",
      "EXTENDED_PERMS = ['user_likes', 'friends_likes']\n",
      "\n",
      "# A temporary file to store a code from the web server\n",
      "\n",
      "TEMP_FILE = 'resources/ch02-facebook/access_token.txt'\n",
      "\n",
      "# Configure an emedded web server that accepts one request, parses\n",
      "# the fragment identifier out of the browser window redirects to another\n",
      "# handler with the parsed out value in the query string where it can be captured\n",
      "# and stored to disk. (A webserver cannot capture information in the fragment \n",
      "# identifier or that work would simply be done in here.)\n",
      "\n",
      "webserver = Flask(\"FacebookOAuth\")\n",
      "@webserver.route(\"/oauth_helper\")\n",
      "def oauth_helper():\n",
      "    return '''<script type=\"text/javascript\">\n",
      "    var at = window.location.hash.substring(\"access_token=\".length+1).split(\"&\")[0]; \n",
      "    document.write(\"Access Token: <strong>\" + at + \"</strong>\");\n",
      "    setTimeout(function() { window.location = \"/access_token_capture?access_token=\" + at }, 1000 /*ms*/);\n",
      "    </script>'''\n",
      "\n",
      "# Parses out a query string parameter and stores it to disk. This is required because\n",
      "# the address space that Flask uses is not shared with IPython Notebook, so there is really\n",
      "# no other way to share the information than to store it to a file and access it afterward\n",
      "@webserver.route(\"/access_token_capture\")\n",
      "def access_token_capture():\n",
      "    access_token = request.args.get('access_token')\n",
      "    f = open(TEMP_FILE, 'w') # Store the code as a file\n",
      "    f.write(access_token)\n",
      "    f.close()\n",
      "    return access_token\n",
      "\n",
      "\n",
      "# This is the function you'll call in the next cell to get the access token\n",
      "# that /access_token_capture stores for you\n",
      "def get_access_token():\n",
      "    access_token = open(TEMP_FILE).read()\n",
      "    # Prevent stale tokens from sticking around, which could complicate debugging\n",
      "    os.remove(TEMP_FILE)\n",
      "    return access_token\n",
      "\n",
      "\n",
      "# Send an OAuth request to Facebook, handle the redirect, and display the access\n",
      "# token that's included in the redirect for the user to copy and paste\n",
      "    \n",
      "args = dict(client_id=APP_ID, redirect_uri=REDIRECT_URI,\n",
      "            scope=','.join(EXTENDED_PERMS), type='user_agent', display='popup'\n",
      "            )\n",
      "\n",
      "oauth_url = 'https://facebook.com/dialog/oauth?' + urllib.urlencode(args)\n",
      "\n",
      "# We'll use multiprocessing to asynchronously handle the starting/stopping the server\n",
      "# because we'll need to serve multiple requests and, thus, can't use the same logic\n",
      "# as before in which we shut it down after a single request was serviced.\n",
      "\n",
      "server_thread = multiprocessing.Process(target=webserver.run, kwargs={'host':'0.0.0.0'})\n",
      "server_thread.start()\n",
      "\n",
      "# Kill the server and set a variable after 5 seconds, which is plenty enough time to launch a browser window\n",
      "# and serve a few requests. Accidentally leaving it running can cause problems like tying \n",
      "# up ports.\n",
      "\n",
      "Timer(5, server_thread.terminate).start()\n",
      "    \n",
      "# Tap the browser's native capabilities to access the web server through an inline frame,\n",
      "# and ensure compatibility between IPython Notebook servers running locally as well as\n",
      "# remotely. Wait second before launching it just to make sure that the server is ready to\n",
      "# accept the request when Facebook redirects back\n",
      "\n",
      "Timer(1, lambda: display(IFrame(oauth_url, '100%', '100px'))).start()"
     ],
     "language": "python",
     "metadata": {},
     "outputs": []
    },
    {
     "cell_type": "code",
     "collapsed": false,
     "input": [
      "# Execute this cell (once) to set the ACCESS_TOKEN variable\n",
      "ACCESS_TOKEN = get_access_token()"
     ],
     "language": "python",
     "metadata": {},
     "outputs": []
    },
    {
     "cell_type": "code",
     "collapsed": false,
     "input": [
      "# Use the access token...\n",
      "print ACCESS_TOKEN"
     ],
     "language": "python",
     "metadata": {},
     "outputs": []
    }
   ],
   "metadata": {}
  }
 ]
}