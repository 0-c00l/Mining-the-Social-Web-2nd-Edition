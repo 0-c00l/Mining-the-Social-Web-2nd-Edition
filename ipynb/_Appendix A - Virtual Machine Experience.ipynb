{
 "metadata": {
  "name": "_Appendix A - Virtual Machine Experience"
 },
 "nbformat": 3,
 "nbformat_minor": 0,
 "worksheets": [
  {
   "cells": [
    {
     "cell_type": "markdown",
     "metadata": {},
     "source": [
      "#Mining the Social Web, 2nd Edition\n",
      "\n",
      "##Appendix A: Virtual Machine Experience\n",
      "\n",
      "This IPython Notebook provides an interactive way to follow along with and explore the numbered examples from [_Mining the Social Web (2nd Edition)_](http://bit.ly/135dHfs). The intent behind this notebook is to reinforce the concepts from the sample code in a fun, convenient, and effective way. This notebook assumes that you are reading along with the book and have the context of the discussion as you work through these exercises.\n",
      "\n",
      "In the somewhat unlikely event that you've somehow stumbled across this notebook outside of its context on GitHub, [you can find the full source code repository here](http://bit.ly/16kGNyb).\n",
      "\n",
      "## Copyright and Licensing\n",
      "\n",
      "You are free to use or adapt this notebook for any purpose you'd like. However, please respect the [Simplified BSD License](https://github.com/ptwobrussell/Mining-the-Social-Web-2nd-Edition/blob/master/LICENSE.txt) that governs its use."
     ]
    },
    {
     "cell_type": "markdown",
     "metadata": {},
     "source": [
      "## Screencast Overview\n",
      "\n",
      "Although detailed instructions are below, the following ~4 minute screencast provides a short overview of the steps involved in getting your virtual machine (powered by [Vagrant](http://vagrantup.com)) configured and ready to go.\n",
      "<br />\n",
      "<br />\n",
      "<iframe width=\"560\" height=\"315\" src=\"//www.youtube.com/embed/0m0PI9TGf3w\" frameborder=\"0\" allowfullscreen></iframe>\n",
      "\n",
      "## Summary Instructions\n",
      "\n",
      "In order to start the virtual machine, there are just a few easy steps to follow:\n",
      "\n",
      "* Download and install the latest copy of VirtualBox for your operating system at https://www.virtualbox.org/\n",
      "* Download and install Vagrant for your operating system at http://www.vagrantup.com/\n",
      " * It is highly recommended that you take a moment to read its excellent \"Getting Started\" guide as a matter of initial familiarization\n",
      "* Checkout this code repository to your machine using git or with the download links at the top of the main GitHub page.\n",
      "* Navigate to the 'vagrant' directory in the checkout\n",
      "* Run the following command: <code>vagrant up</code>\n",
      "\n",
      "A few additional details once the virtual machine is running:\n",
      "\n",
      "* What should happen at this point is that Vagrant will use the Vagrantfile that's provided to download a Virtualbox base image and use the commands in the bootstrap.sh script to customize it by installing dependencies that are needed and checking out the latest copy of this GitHub repository. The first time you <code>vagrant up</code>, it may take a few minutes since a base image and updates for it must be downloaded and installed.\n",
      "* When all of the dependencies are installed, it will start the [IPython Notebook](http://ipython.org/notebook.html) server automatically\n",
      "* Now, point your web browser to http://localhost:8888 and read the instructions in the Chapter0 (Welcome) IPython Notebook to get started running the code!\n",
      "* Ultimately, it would be wise to learn how to <code>vagrant ssh</code> into the virtual machine and get comfortable starting/stopping IPython Notebook servers as needed, so again, it's worthwhile to take a moment to familiarize yourself with Vagrant and how to run IPython Notebook. In short, execute <code>ipython notebook --ip='0.0.0.0' --pylab=inline --no-browser</code> in any directory containing a pynb file if you need to do this for whatever reason.\n",
      "* If you want to take a break from the excitement, use the <code>vagrant suspend</code> command to save the current running state of your virtual machine and stop it. To resume working again, simply issue a <code>vagrant resume</code>. Additional documentation on operating vagrant can be found [here](http://docs.vagrantup.com/v2/getting-started/teardown.html).\n",
      "* If you still aren't convinced that the virtual machine will save you time, at least do yourself the favor of reviewing the [bootstrap.sh](https://github.com/ptwobrussell/Mining-the-Social-Web-2nd-Edition/blob/master/vagrant/bootstrap.sh) file that describes the steps required to get a good environment working with a minimal Linux base image.\n",
      "\n",
      "Please file tickets here on GitHub if you experience any troubles whatsoever. The goal is to provide you with a completely turn-key system so that you can get the most out of Mining the Social Web -- not to divert your attention into unnecessary system configuration issues. \n",
      "\n",
      "Disclaimer: tech support will be provided as time allows for anyone who needs it, but requests filed by readers of [_Mining the Social Web, 2nd Edition_](http://bit.ly/135dHfs) will necessarily take priority as a matter of professional courtesy."
     ]
    }
   ],
   "metadata": {}
  }
 ]
}