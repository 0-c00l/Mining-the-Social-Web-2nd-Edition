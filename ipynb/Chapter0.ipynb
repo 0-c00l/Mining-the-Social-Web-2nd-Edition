{
 "metadata": {
  "name": "Chapter0"
 },
 "nbformat": 3,
 "nbformat_minor": 0,
 "worksheets": [
  {
   "cells": [
    {
     "cell_type": "markdown",
     "metadata": {},
     "source": [
      "# Mining the Social Web (2nd Edition)\n",
      "\n",
      "## Chapter 0: Welcome!\n",
      "\n",
      "Welcome to the source code repository for [_Mining the Social Web (2nd Edition)_](http://bit.ly/135dHfs)! This IPython Notebook provides an interactive way to follow along with and explore the numbered examples from the book, and the intent behind this notebook is to reinforce the concepts from the sample code in a fun, convenient, and effective way.\n",
      "\n",
      "If you are reading this page, it probably means that you've been able to either successfully download the virtual machine and point your browser to this IPython Notebook, or it means that you've been able to download the source code and start IPython Notebook on your own without the virtual machine. In either case, let me be the first to offer my congratulations and let you know that I am excited that you've chosen to take an interest in _Mining the Social Web_. (In the somewhat unlikely event that you've somehow stumbled across this notebook outside of its context on GitHub, [you can find the full source code repository here](http://bit.ly/16kGNyb).)\n",
      "\n",
      "The default expectation is that you as a consumer of _Mining the Social Web_ and its source code will take advantage of the virtual machine experience (powered by Vagrant) that's provided with this book. See the README.md file in the parent directory for a brief overview on just how quick and easy Vagrant makes it to get started and so that you can avoid dealing with myriad system administration complexities that you would otherwise be liable for figuring out to configure your development environment.\n",
      "\n",
      "The directory that contains this file also contains all of the IPython Notebooks for _Mining the Social Web_, so in order to explore the source code for any given chapter, just open the corresponding notebook from http://localhost:8888. If you haven't previously encountered IPython Notebook, you can learn more about it at http://ipython.org/notebook.html. The source code for _Mining the Social Web_ book uses IPython Notebook almost exclusively to present the source code as a means of streamlining and enhancing the learning experience, so it is highly recommended that you take a few minutes to learn more about how it works and why it's such an excellent learning (and development) platform.\n",
      "\n",
      "If you experience any problems at all, please reach out on Twitter, Facebook, or GitHub for help.\n",
      "\n",
      "* Twitter: http://twitter.com/socialwebmining (@SocialWebMining)\n",
      "* Facebook: http://facebook.com/MiningTheSocialWeb\n",
      "* GitHub: https://github.com/ptwobrussell/Mining-the-Social-Web-2nd-Edition/\n",
      "\n",
      "Thanks again for your interest in _Mining the Social Web_. I truly hope that you learn a lot from this book and have a lot of fun along the way!\n",
      "\n",
      "Best Regards,<br />\n",
      "Matthew A. Russell<br />\n",
      "Twitter: @ptwobrussell\n",
      "\n",
      "P.S. Even if you are an accomplished developer, you will still find it worthwhile to use the turn-key virtual machine that's been provided since it is tested and comes pre-loaded with all of the correct dependencies for following along with the examples."
     ]
    },
    {
     "cell_type": "markdown",
     "metadata": {},
     "source": [
      "## Try tinkering around with Python to test out IPython Notebook...\n",
      "\n",
      "As you work through these notebooks, it's assumed that you'll be executing each cell in turn, because some cells will define variables that cells below them will use. Here's a very simple example to illustrate how this all works..."
     ]
    },
    {
     "cell_type": "code",
     "collapsed": false,
     "input": [
      "# Execute this cell to define this variable\n",
      "# Either click Cell => Run from the menu or type\n",
      "# ctrl-Enter to execute. See the Help menu for lots\n",
      "# of useful tips. Help => IPython Help and\n",
      "# Help => Keyboard Shortcuts are especially\n",
      "# useful.\n",
      "\n",
      "message = \"I want to mine the social web!\""
     ],
     "language": "python",
     "metadata": {},
     "outputs": []
    },
    {
     "cell_type": "code",
     "collapsed": false,
     "input": [
      "# The variable 'message is defined here. Execute this cell to see for yourself\n",
      "print message"
     ],
     "language": "python",
     "metadata": {},
     "outputs": []
    },
    {
     "cell_type": "code",
     "collapsed": false,
     "input": [
      "# The variable 'message' is defined here, but we'll delete it\n",
      "# after displaying it to illustrate an important point...\n",
      "print message\n",
      "del message"
     ],
     "language": "python",
     "metadata": {},
     "outputs": []
    },
    {
     "cell_type": "code",
     "collapsed": false,
     "input": [
      "# The variable message is no longer defined in this cell or two cells \n",
      "# above anymore. Try executing this cell or that cell to see for yourself.\n",
      "print message"
     ],
     "language": "python",
     "metadata": {},
     "outputs": []
    },
    {
     "cell_type": "code",
     "collapsed": false,
     "input": [
      "# Try typing in some code of your own!"
     ],
     "language": "python",
     "metadata": {},
     "outputs": []
    },
    {
     "cell_type": "markdown",
     "metadata": {},
     "source": [
      "## Login to the Virtual Machine with SSH\n",
      "\n",
      "Although great care has been taken to try and ensure that you won't have to use a secure shell to login to the virtual machine, there is great value in learning how to use an SSH client to login to a machine and be productive in a terminal session, and there will inevitably be times when you may need to troubleshoot on the virtual machine despite our best efforts. If you are already comfortable using a secure shell, you'll simply type <code>vagrant ssh</code> from the _vagrant_ folder where your _Vagrantfile_ is located, and you'll get automatically logged in if you have an SSH client already installed. \n",
      "\n",
      "If you are a Mac or Linux user, you will already have an SSH client installed and your remote login should \"just work\", but if you are a Windows user, you will likely not have an SSH client installed unless you're already using a tool like [PuTTY](http://www.putty.org/) or [Git for Windows](http://msysgit.github.io/). In any event, if you've used an SSH client before, you'll have no troubles using <code>vagrant ssh</code> to perform a remote login. If you have not used an SSH client before, you won't necessarily need to learn to use one, but it might be in your overall best interest to learn how to use one at your leisure.\n",
      "\n",
      "Even without an SSH client, however, there are a couple of creative ways that you can use a Python script and IPython Notebook to give you much of the same functionality that you would achieve by performing a remote login to gain terminal access. The following sections introduce some of the possibilities."
     ]
    },
    {
     "cell_type": "markdown",
     "metadata": {},
     "source": [
      "## Interact with the Virtual Machine without an SSH Client Using Python\n",
      "Although you're probably better off to configure and use an SSH client to login to the virtual machine most of the time, you _could_ even interact with the virtual machine almost as though you are working in a terminal session using IPython Notebook and the [envoy](https://github.com/kennethreitz/envoy) package, which wraps the [subprocess](http://docs.python.org/2/library/subprocess.html) package in a highly convenient way that allows you to run arbitrary commands and see the results. The following script shows how to run a few remote commands  on the virtual machine (where this IPython Notebook server would be running if you are using the virtual machine). Even in situations where you are running a Python program locally, this package can be of significant convenience."
     ]
    },
    {
     "cell_type": "code",
     "collapsed": false,
     "input": [
      "import envoy # pip install envoy\n",
      "\n",
      "# Run a command just as you would in a terminal on the virtual machine\n",
      "r = envoy.run('ps aux | grep ipython') # show processes containing 'ipython'\n",
      "\n",
      "# Print its standard output\n",
      "print r.std_out\n",
      "\n",
      "# Print its standard error\n",
      "print r.std_err\n",
      "\n",
      "# Print the working directory for the IPython Notebook server\n",
      "print envoy.run('pwd').std_out\n",
      "\n",
      "# Try some commands of your own..."
     ],
     "language": "python",
     "metadata": {},
     "outputs": []
    },
    {
     "cell_type": "markdown",
     "metadata": {},
     "source": [
      "## Bash Cell Magic\n",
      "\n",
      "An alternative to using the envoy package to interact with the virtual machine through what is called \"Bash Cell Magic\" in IPython Notebook. The way it works is that if you write <code>%%bash</code> on the first line of a cell, IPython Notebook will automatically take the remainder of the cell and execute it as a [Bash](http://tldp.org/LDP/abs/html/) script on the machine where the server is running. In case you come from a Windows background or are a Mac user who hasn't yet encountered Bash, it's the name of the default shell on most Linux systems, including the virtual machine that runs the IPython Notebook server.\n",
      "\n",
      "Assuming that you are using the virtual machine, this means that you can essentially write bash scripts in IPython Notebook cells and execute them on the server. The following script demonstrates some of the possibilities, including how to use a command like <code>wget</code> to download a file."
     ]
    },
    {
     "cell_type": "code",
     "collapsed": false,
     "input": [
      "%%bash\n",
      "\n",
      "# Print the working directory\n",
      "pwd \n",
      "\n",
      "# Display the date\n",
      "date\n",
      "\n",
      "# View the first 10 lines of a manual page for wget\n",
      "man wget | head -10\n",
      "\n",
      "# Download a webpage to /tmp/index.html\n",
      "wget -O /tmp/foo.html http://ipython.org/notebook.html\n",
      "\n",
      "# Search for 'ipython' in the webpage\n",
      "grep ipython /tmp/foo.html"
     ],
     "language": "python",
     "metadata": {},
     "outputs": []
    },
    {
     "cell_type": "markdown",
     "metadata": {},
     "source": [
      "## A Note on Shared Folders\n",
      "\n",
      "The Vagrant virtual machine maps the top level directory of your GitHub checkout (the directory containing _README.md_) on your host machine to its _/home/vagrant/share_ folder and automatically synchronizes files between the guest and host environments as an incredible convenience to you. This mapping and synchronization enables IPython Notebooks you are running on the guest machine to access files that you can conveniently manage on your host machine and vice-versa. For example, many of the scripts in IPython Notebooks may write out data files and you can easily access those data files on your host environment (should you desire to do so) without needing to connect into the virtual machine with an SSH session. On the flip side, you can provide data files to IPython Notebook, which is running on the guest machine by copying them anywhere into your top level GitHub checkout. \n",
      "\n",
      "In effect, the top level directory of your GitHub checkout is automatically synchronized between the guest and host environments so that you have access to everything that is happening and can manage your source code, modified notebooks, and everything else all from your host machine. See _vagrant/Vagrantfile_ for more details on how synchronized folders can be configured.\n",
      "\n",
      "The following code snippet illustrates how to access files. Keep in mind that the code that you execute in this cell writes data to the guest (virtual machine) environment, and it's Vagrant that automatically synchronizes it back to your guest environment. It's a subtle but important detail. "
     ]
    },
    {
     "cell_type": "code",
     "collapsed": false,
     "input": [
      "import os\n",
      "\n",
      "# The absolute path to the shared folder on the VM\n",
      "shared_folder=\"/home/vagrant/share\"\n",
      "\n",
      "# List the files in the shared folder\n",
      "print os.listdir(shared_folder)\n",
      "print\n",
      "\n",
      "# How to read and display a snippet of the share/README.md file...\n",
      "README = os.path.join(shared_folder, \"README.md\")\n",
      "txt = open(README).read()\n",
      "print txt[:200]\n",
      "\n",
      "# Write out a file to the guest but notice that it is available on the host\n",
      "# by checking the contents of your GitHub checkout\n",
      "f = open(os.path.join(shared_folder, \"Hello.txt\"), \"w\")\n",
      "f.write(\"Hello. This text is written on the guest but synchronized to the host by Vagrant\")\n",
      "f.close()"
     ],
     "language": "python",
     "metadata": {},
     "outputs": []
    },
    {
     "cell_type": "markdown",
     "metadata": {},
     "source": [
      "## Copyright and Licensing\n",
      "\n",
      "You are free to use or adapt this notebook for any purpose you'd like. However, please respect the following [Simplified BSD License](https://github.com/ptwobrussell/Mining-the-Social-Web-2nd-Edition/blob/master/LICENSE.txt) (also known as \"FreeBSD License\") that governs its use. Basically, you can do whatever you want with the code so long as you retain the copyright notice.\n",
      "\n",
      "Copyright (c) 2013, Matthew A. Russell\n",
      "All rights reserved.\n",
      "\n",
      "Redistribution and use in source and binary forms, with or without\n",
      "modification, are permitted provided that the following conditions are met: \n",
      "\n",
      "1. Redistributions of source code must retain the above copyright notice, this\n",
      "   list of conditions and the following disclaimer. \n",
      "2. Redistributions in binary form must reproduce the above copyright notice,\n",
      "   this list of conditions and the following disclaimer in the documentation\n",
      "   and/or other materials provided with the distribution. \n",
      "\n",
      "THIS SOFTWARE IS PROVIDED BY THE COPYRIGHT HOLDERS AND CONTRIBUTORS \"AS IS\" AND\n",
      "ANY EXPRESS OR IMPLIED WARRANTIES, INCLUDING, BUT NOT LIMITED TO, THE IMPLIED\n",
      "WARRANTIES OF MERCHANTABILITY AND FITNESS FOR A PARTICULAR PURPOSE ARE\n",
      "DISCLAIMED. IN NO EVENT SHALL THE COPYRIGHT OWNER OR CONTRIBUTORS BE LIABLE FOR\n",
      "ANY DIRECT, INDIRECT, INCIDENTAL, SPECIAL, EXEMPLARY, OR CONSEQUENTIAL DAMAGES\n",
      "(INCLUDING, BUT NOT LIMITED TO, PROCUREMENT OF SUBSTITUTE GOODS OR SERVICES;\n",
      "LOSS OF USE, DATA, OR PROFITS; OR BUSINESS INTERRUPTION) HOWEVER CAUSED AND\n",
      "ON ANY THEORY OF LIABILITY, WHETHER IN CONTRACT, STRICT LIABILITY, OR TORT\n",
      "(INCLUDING NEGLIGENCE OR OTHERWISE) ARISING IN ANY WAY OUT OF THE USE OF THIS\n",
      "SOFTWARE, EVEN IF ADVISED OF THE POSSIBILITY OF SUCH DAMAGE.\n",
      "\n",
      "The views and conclusions contained in the software and documentation are those\n",
      "of the authors and should not be interpreted as representing official policies, \n",
      "either expressed or implied, of the FreeBSD Project."
     ]
    }
   ],
   "metadata": {}
  }
 ]
}