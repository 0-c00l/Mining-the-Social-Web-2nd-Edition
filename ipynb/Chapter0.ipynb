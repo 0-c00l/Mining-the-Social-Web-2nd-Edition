{
 "metadata": {
  "name": "Chapter0"
 },
 "nbformat": 3,
 "nbformat_minor": 0,
 "worksheets": [
  {
   "cells": [
    {
     "cell_type": "markdown",
     "metadata": {},
     "source": [
      "# Mining the Social Web (2nd Edition)\n",
      "\n",
      "## Welcome!\n",
      "\n",
      "Welcome to the source code repository for [_Mining the Social Web (2nd Edition)_](http://bit.ly/135dHfs)! This IPython Notebook provides an interactive way to follow along with and explore the numbered examples from the book, and the intent behind this notebook is to reinforce the concepts from the sample code in a fun, convenient, and effective way.\n",
      "\n",
      "If you are reading this page, it probably means that you've been able to either successfully download the virtual machine and point your browser to this IPython Notebook, or it means that you've been able to download the source code and start IPython Notebook on your own without the virtual machine. In either case, let me be the first to offer my congratulations and let you know that I am excited that you've chosen to take an interest in _Mining the Social Web_. (In the somewhat unlikely event that you've somehow stumbled across this notebook outside of its context on GitHub, [you can find the full source code repository here](http://bit.ly/16kGNyb).)\n",
      "\n",
      "The default expectation is that you as a consumer of _Mining the Social Web_ and its source code will take advantage of the virtual machine experience (powered by Vagrant) that's provided with this book. See the README.md file in the parent directory for a brief overview on just how quick and easy Vagrant makes it to get started and so that you can avoid dealing with myriad system administration complexities that you would otherwise be liable for figuring out to configure your development environment.\n",
      "\n",
      "The directory that contains this file also contains all of the IPython Notebooks for _Mining the Social Web_, so in order to explore the source code for any given chapter, just open the corresponding notebook from http://localhost:8888. If you haven't previously encountered IPython Notebook, you can learn more about it at http://ipython.org/notebook.html. The source code for _Mining the Social Web_ book uses IPython Notebook almost exclusively to present the source code as a means of streamlining and enhancing the learning experience, so it is highly recommended that you take a few minutes to learn more about how it works and why it's such an excellent learning (and development) platform.\n",
      "\n",
      "If you experience any problems at all, please reach out on Twitter, Facebook, or GitHub for help.\n",
      "\n",
      "* Twitter: http://twitter.com/socialwebmining (@SocialWebMining)\n",
      "* Facebook: http://facebook.com/MiningTheSocialWeb\n",
      "* GitHub: https://github.com/ptwobrussell/Mining-the-Social-Web-2nd-Edition/\n",
      "\n",
      "Thanks again for your interest in _Mining the Social Web_. I truly hope that you learn a lot from this book and have a lot of fun along the way!\n",
      "\n",
      "Best Regards,<br />\n",
      "Matthew A. Russell<br />\n",
      "Twitter: @ptwobrussell\n",
      "\n",
      "P.S. Even if you are an accomplished developer, you may still find it worthwhile to use the turn-key virtual machine that's been provided since it is tested and comes pre-loaded with all of the correct dependencies for following along with the examples."
     ]
    },
    {
     "cell_type": "markdown",
     "metadata": {},
     "source": [
      "**Try tinkering around with Python to test out IPython Notebook...**"
     ]
    },
    {
     "cell_type": "code",
     "collapsed": false,
     "input": [
      "# Try typing some code in this cell and executing it!"
     ],
     "language": "python",
     "metadata": {},
     "outputs": []
    },
    {
     "cell_type": "markdown",
     "metadata": {},
     "source": [
      "**A Note on Shared Folders**\n",
      "\n",
      "Some of the examples in this collection of IPython Notebooks may illustrate accessing data that you will need to get onto the virtual machine in order for IPython Notebook to access it if you are opting-in to the virtual machine experience. For example, the notebook that illustrates working with LinkedIn data references a CSV file that you export from LinkedIn and analyze with IPython Notebook. In order to get files onto the virtual machine so that the notebook can reference them, just copy the file you'd like to share into the _vagrant/share_ folder and it'll be available to you to access at _/home/vagrant/share_ as illustrated in the following example. (The configuration for managing this shared folder can be seen in _vagrant/Vagrantfile_.)"
     ]
    },
    {
     "cell_type": "code",
     "collapsed": false,
     "input": [
      "import os\n",
      "\n",
      "# The absolute path to the shared folder on the VM\n",
      "shared_folder=\"/home/vagrant/share\"\n",
      "\n",
      "# You could also access it through a relative path \n",
      "# from the current working directory like so...\n",
      "#shared_folder=\"../share\"\n",
      "\n",
      "# List the files in the shared folder\n",
      "print os.listdir(shared_folder)\n",
      "\n",
      "# How to read and display share/README file...\n",
      "README = os.path.join(shared_folder, \"README\")\n",
      "txt = open(README).read()\n",
      "print txt"
     ],
     "language": "python",
     "metadata": {},
     "outputs": []
    },
    {
     "cell_type": "markdown",
     "metadata": {},
     "source": [
      "At times, you may also want to copy output from your virtual machine back to your host. In general, you'll find the shutil package to be particularly helpful. For example, here's a cell from the Chapter5 notebook that illustrates how to copy all of its output to the shared folder with the default configuration."
     ]
    },
    {
     "cell_type": "code",
     "collapsed": false,
     "input": [
      "import shutil\n",
      "\n",
      "shutil.copytree('resources/ch05-webpages', '/home/vagrant/share/ch05-webpages')\n",
      "\n",
      "# You should now have a ch05-webpages folder with content in it in your 'vagrant/share' folder\n",
      "# on your host machine."
     ],
     "language": "python",
     "metadata": {},
     "outputs": []
    },
    {
     "cell_type": "markdown",
     "metadata": {},
     "source": [
      "## Copyright and Licensing\n",
      "\n",
      "You are free to use or adapt this notebook for any purpose you'd like. However, please respect the following [Simplified BSD License](https://github.com/ptwobrussell/Mining-the-Social-Web-2nd-Edition/blob/master/LICENSE.txt) (also known as \"FreeBSD License\") that governs its use. Basically, you can do whatever you want with the code so long as you retain the copyright notice.\n",
      "\n",
      "Copyright (c) 2013, Matthew A. Russell\n",
      "All rights reserved.\n",
      "\n",
      "Redistribution and use in source and binary forms, with or without\n",
      "modification, are permitted provided that the following conditions are met: \n",
      "\n",
      "1. Redistributions of source code must retain the above copyright notice, this\n",
      "   list of conditions and the following disclaimer. \n",
      "2. Redistributions in binary form must reproduce the above copyright notice,\n",
      "   this list of conditions and the following disclaimer in the documentation\n",
      "   and/or other materials provided with the distribution. \n",
      "\n",
      "THIS SOFTWARE IS PROVIDED BY THE COPYRIGHT HOLDERS AND CONTRIBUTORS \"AS IS\" AND\n",
      "ANY EXPRESS OR IMPLIED WARRANTIES, INCLUDING, BUT NOT LIMITED TO, THE IMPLIED\n",
      "WARRANTIES OF MERCHANTABILITY AND FITNESS FOR A PARTICULAR PURPOSE ARE\n",
      "DISCLAIMED. IN NO EVENT SHALL THE COPYRIGHT OWNER OR CONTRIBUTORS BE LIABLE FOR\n",
      "ANY DIRECT, INDIRECT, INCIDENTAL, SPECIAL, EXEMPLARY, OR CONSEQUENTIAL DAMAGES\n",
      "(INCLUDING, BUT NOT LIMITED TO, PROCUREMENT OF SUBSTITUTE GOODS OR SERVICES;\n",
      "LOSS OF USE, DATA, OR PROFITS; OR BUSINESS INTERRUPTION) HOWEVER CAUSED AND\n",
      "ON ANY THEORY OF LIABILITY, WHETHER IN CONTRACT, STRICT LIABILITY, OR TORT\n",
      "(INCLUDING NEGLIGENCE OR OTHERWISE) ARISING IN ANY WAY OUT OF THE USE OF THIS\n",
      "SOFTWARE, EVEN IF ADVISED OF THE POSSIBILITY OF SUCH DAMAGE.\n",
      "\n",
      "The views and conclusions contained in the software and documentation are those\n",
      "of the authors and should not be interpreted as representing official policies, \n",
      "either expressed or implied, of the FreeBSD Project."
     ]
    }
   ],
   "metadata": {}
  }
 ]
}